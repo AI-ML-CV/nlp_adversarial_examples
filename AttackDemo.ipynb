{
 "cells": [
  {
   "cell_type": "code",
   "execution_count": null,
   "metadata": {},
   "outputs": [],
   "source": [
    "import numpy as np\n",
    "import tensorflow as tf\n",
    "\n",
    "from keras.preprocessing.sequence import pad_sequences\n",
    "import pickle"
   ]
  },
  {
   "cell_type": "code",
   "execution_count": 2,
   "metadata": {
    "collapsed": true
   },
   "outputs": [],
   "source": [
    "import data_utils\n",
    "import glove_utils\n",
    "import models\n",
    "import display_utils\n",
    "from goog_lm import LM"
   ]
  },
  {
   "cell_type": "code",
   "execution_count": 3,
   "metadata": {
    "collapsed": true
   },
   "outputs": [],
   "source": [
    "import lm_data_utils\n",
    "import lm_utils"
   ]
  },
  {
   "cell_type": "code",
   "execution_count": 12,
   "metadata": {
    "collapsed": true
   },
   "outputs": [],
   "source": [
    "np.random.seed(1001)\n",
    "tf.set_random_seed(1001)\n",
    "\n"
   ]
  },
  {
   "cell_type": "code",
   "execution_count": 5,
   "metadata": {
    "collapsed": true
   },
   "outputs": [],
   "source": [
    "%load_ext autoreload\n",
    "%autoreload 2"
   ]
  },
  {
   "cell_type": "code",
   "execution_count": 6,
   "metadata": {
    "collapsed": true
   },
   "outputs": [],
   "source": [
    "VOCAB_SIZE  = 50000\n",
    "with open('aux_files/dataset_%d.pkl' %VOCAB_SIZE, 'rb') as f:\n",
    "    dataset = pickle.load(f)"
   ]
  },
  {
   "cell_type": "code",
   "execution_count": 7,
   "metadata": {
    "collapsed": true
   },
   "outputs": [],
   "source": [
    "doc_len = [len(dataset.test_seqs2[i]) for i in \n",
    "           range(len(dataset.test_seqs2))]"
   ]
  },
  {
   "cell_type": "code",
   "execution_count": 8,
   "metadata": {
    "collapsed": true
   },
   "outputs": [],
   "source": [
    "dist_mat = np.load('aux_files/dist_counter_%d.npy' %VOCAB_SIZE)\n",
    "# Prevent returning 0 as most similar word because it is not part of the dictionary\n",
    "dist_mat[0,:] = 100000\n",
    "dist_mat[:,0] = 100000\n",
    "\n",
    "skip_list = np.load('aux_files/missed_embeddings_counter_%d.npy' %VOCAB_SIZE)"
   ]
  },
  {
   "cell_type": "markdown",
   "metadata": {},
   "source": [
    "### Demonstrating how we find the most similar words"
   ]
  },
  {
   "cell_type": "code",
   "execution_count": 9,
   "metadata": {
    "collapsed": true
   },
   "outputs": [],
   "source": [
    "src_word = dataset.dict['elwes']"
   ]
  },
  {
   "cell_type": "code",
   "execution_count": 10,
   "metadata": {},
   "outputs": [
    {
     "data": {
      "text/plain": [
       "34090"
      ]
     },
     "execution_count": 10,
     "metadata": {},
     "output_type": "execute_result"
    }
   ],
   "source": [
    "src_word"
   ]
  },
  {
   "cell_type": "code",
   "execution_count": null,
   "metadata": {
    "collapsed": true
   },
   "outputs": [],
   "source": []
  },
  {
   "cell_type": "code",
   "execution_count": 13,
   "metadata": {},
   "outputs": [
    {
     "name": "stdout",
     "output_type": "stream",
     "text": [
      "Closest to `later` are:\n",
      " --  subsequent   0.18323109771400015\n",
      " --  subsequently   0.1867195991340007\n",
      " --  afterward   0.2509214012219996\n",
      " --  afterwards   0.2576958961479996\n",
      " --  thereafter   0.2741981096589998\n",
      " --  trailing   0.3368002712810001\n",
      " --  after   0.34520261237799876\n",
      " --  then   0.36472839338299834\n",
      " --  posterior   0.4310855888389997\n",
      " --  following   0.4833073676040003\n",
      "----\n",
      "Closest to `takes` are:\n",
      " --  pick   0.31130546563200046\n",
      " --  taking   0.42471158462800007\n",
      " --  picked   0.48527412495900113\n",
      "----\n",
      "Closest to `instead` are:\n",
      " --  conversely   0.30340380498499964\n",
      " --  however   0.3475382865829997\n",
      " --  alternatively   0.39540487543000014\n",
      " --  alternately   0.4439627395600003\n",
      " --  nevertheless   0.477163975792001\n",
      "----\n",
      "Closest to `seem` are:\n",
      " --  seems   0.007052995653001215\n",
      " --  appears   0.32837244735200044\n",
      " --  looks   0.33534638306400066\n",
      " --  transpires   0.456207185493001\n",
      "----\n",
      "Closest to `beautiful` are:\n",
      " --  gorgeous   0.019236443661999614\n",
      " --  wonderful   0.10149643378299977\n",
      " --  splendid   0.10299021060599989\n",
      " --  handsome   0.11803810151499938\n",
      " --  resplendent   0.11808701124700005\n",
      " --  wondrous   0.12150066282500016\n",
      " --  marvelous   0.12519975539099892\n",
      " --  marvellous   0.1283983423189996\n",
      " --  fantastic   0.1362662712549989\n",
      " --  sumptuous   0.14140581277100006\n",
      " --  magnificent   0.1463668716009996\n",
      " --  terrific   0.15607668417800036\n",
      " --  lovely   0.1600076271229991\n",
      " --  ravishing   0.17404625231200033\n",
      " --  sublime   0.17909557696099943\n",
      " --  exquisite   0.1881071417279998\n",
      " --  fabulous   0.20363493095600038\n",
      " --  delightful   0.20468405530899902\n",
      " --  superb   0.21660537682999959\n",
      " --  excellent   0.22435712285300036\n",
      "----\n"
     ]
    }
   ],
   "source": [
    "for i in range(300, 305):\n",
    "    src_word = i\n",
    "    nearest, nearest_dist = glove_utils.pick_most_similar_words(src_word, dist_mat,20, 0.5)\n",
    "        \n",
    "    print('Closest to `%s` are:' %(dataset.inv_dict[src_word]))\n",
    "    for w_id, w_dist in zip(nearest, nearest_dist):\n",
    "          print(' -- ', dataset.inv_dict[w_id], ' ', w_dist)\n",
    "\n",
    "    print('----')"
   ]
  },
  {
   "cell_type": "markdown",
   "metadata": {},
   "source": [
    "### Preparing the dataset"
   ]
  },
  {
   "cell_type": "code",
   "execution_count": 14,
   "metadata": {
    "collapsed": true
   },
   "outputs": [],
   "source": [
    "max_len = 250\n",
    "train_x = pad_sequences(dataset.train_seqs2, maxlen=max_len, padding='post')\n",
    "train_y = np.array(dataset.train_y)\n",
    "test_x = pad_sequences(dataset.test_seqs2, maxlen=max_len, padding='post')\n",
    "test_y = np.array(dataset.test_y)"
   ]
  },
  {
   "cell_type": "markdown",
   "metadata": {},
   "source": [
    "### Loading the sentiment analysis model"
   ]
  },
  {
   "cell_type": "code",
   "execution_count": 15,
   "metadata": {},
   "outputs": [
    {
     "name": "stdout",
     "output_type": "stream",
     "text": [
      "WARNING:tensorflow:From /home/malzantot/Nesl/acl2/models.py:54: softmax_cross_entropy_with_logits (from tensorflow.python.ops.nn_ops) is deprecated and will be removed in a future version.\n",
      "Instructions for updating:\n",
      "\n",
      "Future major versions of TensorFlow will allow gradients to flow\n",
      "into the labels input on backprop by default.\n",
      "\n",
      "See @{tf.nn.softmax_cross_entropy_with_logits_v2}.\n",
      "\n",
      "INFO:tensorflow:Restoring parameters from ./models/imdb_model\n"
     ]
    }
   ],
   "source": [
    "tf.reset_default_graph()\n",
    "if tf.get_default_session():\n",
    "    sess.close()\n",
    "sess = tf.Session()\n",
    "batch_size = 1\n",
    "lstm_size = 128\n",
    "#max_len =  100\n",
    "\n",
    "with tf.variable_scope('imdb', reuse=False):\n",
    "    model = models.SentimentModel(batch_size=batch_size,\n",
    "                           lstm_size = lstm_size,\n",
    "                           max_len = max_len,\n",
    "                           embeddings_dim=300, vocab_size=dist_mat.shape[1],is_train = False)\n",
    "saver = tf.train.Saver()\n",
    "saver.restore(sess, './models/imdb_model')\n",
    "\n"
   ]
  },
  {
   "cell_type": "markdown",
   "metadata": {},
   "source": [
    "## Loading the Google Language model"
   ]
  },
  {
   "cell_type": "code",
   "execution_count": 16,
   "metadata": {},
   "outputs": [
    {
     "name": "stdout",
     "output_type": "stream",
     "text": [
      "LM vocab loading done\n"
     ]
    },
    {
     "name": "stderr",
     "output_type": "stream",
     "text": [
      "Recovering graph.\n"
     ]
    },
    {
     "name": "stdout",
     "output_type": "stream",
     "text": [
      "INFO:tensorflow:Recovering Graph goog_lm/graph-2016-09-10.pbtxt\n"
     ]
    },
    {
     "name": "stderr",
     "output_type": "stream",
     "text": [
      "Recovering checkpoint goog_lm/ckpt-*\n"
     ]
    }
   ],
   "source": [
    "goog_lm = LM()"
   ]
  },
  {
   "cell_type": "markdown",
   "metadata": {
    "collapsed": true
   },
   "source": [
    "#### demonstrating the GoogLM"
   ]
  },
  {
   "cell_type": "code",
   "execution_count": 17,
   "metadata": {},
   "outputs": [
    {
     "name": "stdout",
     "output_type": "stream",
     "text": [
      "Closest to `play` are ['playing', 'gaming', 'games', 'toy', 'playback', 'game', 'plaything', 'cheek', 'gambling', 'toys', 'toying', 'replay', 'stake', 'plays', 'jeu', 'gamble', 'staking', 'reproduction', 'casino', 'sets']\n"
     ]
    }
   ],
   "source": [
    "src_word = dataset.dict['play']\n",
    "nearest, nearest_dist = glove_utils.pick_most_similar_words(src_word, dist_mat,20)\n",
    "nearest_w = [dataset.inv_dict[x] for x in nearest]\n",
    "print('Closest to `%s` are %s' %(dataset.inv_dict[src_word], nearest_w))"
   ]
  },
  {
   "cell_type": "code",
   "execution_count": 18,
   "metadata": {},
   "outputs": [
    {
     "name": "stdout",
     "output_type": "stream",
     "text": [
      "most probable is  game\n"
     ]
    }
   ],
   "source": [
    "prefix = 'is'\n",
    "suffix = 'with'\n",
    "lm_preds = goog_lm.get_words_probs(prefix, nearest_w, suffix)\n",
    "print('most probable is ', nearest_w[np.argmax(lm_preds)])\n"
   ]
  },
  {
   "cell_type": "markdown",
   "metadata": {},
   "source": [
    "## Try Attack"
   ]
  },
  {
   "cell_type": "code",
   "execution_count": 19,
   "metadata": {
    "collapsed": true
   },
   "outputs": [],
   "source": [
    "from attacks import GreedyAttack, GeneticAtack"
   ]
  },
  {
   "cell_type": "markdown",
   "metadata": {},
   "source": [
    "## Main Attack "
   ]
  },
  {
   "cell_type": "code",
   "execution_count": 21,
   "metadata": {
    "collapsed": true
   },
   "outputs": [],
   "source": [
    "pop_size = 32\n",
    "n1 = 8\n",
    "\n",
    "with tf.variable_scope('imdb', reuse=True):\n",
    "    batch_model = models.SentimentModel(batch_size=pop_size,\n",
    "                           lstm_size = lstm_size,\n",
    "                           max_len = max_len,\n",
    "                           embeddings_dim=300, vocab_size=dist_mat.shape[1],is_train = False)\n",
    "    \n",
    "with tf.variable_scope('imdb', reuse=True):\n",
    "    neighbour_model = models.SentimentModel(batch_size=n1,\n",
    "                           lstm_size = lstm_size,\n",
    "                           max_len = max_len,\n",
    "                           embeddings_dim=300, vocab_size=dist_mat.shape[1],is_train = False)\n",
    "ga_atttack = GeneticAtack(sess, model, batch_model, neighbour_model, dataset, dist_mat, \n",
    "                                  skip_list,\n",
    "                                  goog_lm, max_iters=30, \n",
    "                                   pop_size=pop_size,\n",
    "                                  \n",
    "                                  n1 = n1,\n",
    "                                  n2 = 4,\n",
    "                                 use_lm =      True, use_suffix=False)"
   ]
  },
  {
   "cell_type": "code",
   "execution_count": 22,
   "metadata": {
    "scrolled": true
   },
   "outputs": [
    {
     "name": "stdout",
     "output_type": "stream",
     "text": [
      "Shortest sentence in our test set is 16 words\n",
      "skipping wrong classifed ..\n",
      "--------------------------\n",
      "skipping wrong classifed ..\n",
      "--------------------------\n",
      "skipping too long input..\n",
      "--------------------------\n",
      "skipping too long input..\n",
      "--------------------------\n",
      "skipping too long input..\n",
      "--------------------------\n",
      "******  1  ********\n",
      "\t\t 0  --  0.35230252\n",
      "\t\t 1  --  0.36194578\n",
      "\t\t 2  --  0.40592965\n",
      "\t\t 3  --  0.47743848\n",
      "\t\t 4  --  0.5287754\n",
      "6 - 6 changed.\n",
      "--------------------------\n",
      "******  2  ********\n",
      "\t\t 0  --  0.05999096\n",
      "\t\t 1  --  0.083567075\n",
      "\t\t 2  --  0.11059701\n",
      "\t\t 3  --  0.13808562\n",
      "\t\t 4  --  0.13883431\n",
      "\t\t 5  --  0.14607526\n",
      "\t\t 6  --  0.14607526\n",
      "\t\t 7  --  0.14607526\n",
      "\t\t 8  --  0.16570853\n",
      "\t\t 9  --  0.19092996\n",
      "\t\t 10  --  0.24687818\n",
      "\t\t 11  --  0.24687818\n",
      "\t\t 12  --  0.25345075\n",
      "\t\t 13  --  0.29303515\n",
      "\t\t 14  --  0.31488502\n",
      "\t\t 15  --  0.33291987\n",
      "\t\t 16  --  0.42738083\n",
      "\t\t 17  --  0.42738083\n",
      "\t\t 18  --  0.5090042\n",
      "7 - 21 changed.\n",
      "--------------------------\n",
      "skipping too long input..\n",
      "--------------------------\n",
      "skipping too long input..\n",
      "--------------------------\n",
      "skipping wrong classifed ..\n",
      "--------------------------\n",
      "skipping wrong classifed ..\n",
      "--------------------------\n",
      "skipping too long input..\n",
      "--------------------------\n",
      "skipping too long input..\n",
      "--------------------------\n",
      "skipping too long input..\n",
      "--------------------------\n",
      "skipping too long input..\n",
      "--------------------------\n",
      "skipping too long input..\n",
      "--------------------------\n",
      "******  3  ********\n",
      "\t\t 0  --  0.18574762\n",
      "\t\t 1  --  0.30255586\n",
      "\t\t 2  --  0.30255586\n",
      "\t\t 3  --  0.34394833\n",
      "\t\t 4  --  0.34533727\n",
      "\t\t 5  --  0.45194376\n",
      "\t\t 6  --  0.46597603\n",
      "\t\t 7  --  0.53035897\n",
      "17 - 11 changed.\n",
      "--------------------------\n",
      "skipping too long input..\n",
      "--------------------------\n",
      "skipping too long input..\n",
      "--------------------------\n",
      "skipping wrong classifed ..\n",
      "--------------------------\n",
      "skipping too long input..\n",
      "--------------------------\n",
      "skipping too long input..\n",
      "--------------------------\n",
      "skipping wrong classifed ..\n",
      "--------------------------\n",
      "skipping too long input..\n",
      "--------------------------\n",
      "skipping too long input..\n",
      "--------------------------\n",
      "skipping too long input..\n",
      "--------------------------\n",
      "******  4  ********\n",
      "\t\t 0  --  0.28799915\n",
      "\t\t 1  --  0.3376803\n",
      "\t\t 2  --  0.38059628\n",
      "\t\t 3  --  0.3997996\n",
      "\t\t 4  --  0.3997996\n",
      "\t\t 5  --  0.44133914\n",
      "\t\t 6  --  0.49705696\n",
      "\t\t 7  --  0.5037262\n",
      "27 - 10 changed.\n",
      "--------------------------\n",
      "skipping too long input..\n",
      "--------------------------\n",
      "******  5  ********\n",
      "\t\t 0  --  0.17720948\n",
      "\t\t 1  --  0.17832707\n",
      "\t\t 2  --  0.24669528\n",
      "\t\t 3  --  0.28419483\n",
      "\t\t 4  --  0.31268644\n",
      "\t\t 5  --  0.37322325\n",
      "\t\t 6  --  0.42528662\n",
      "\t\t 7  --  0.42528662\n",
      "\t\t 8  --  0.5014412\n",
      "29 - 12 changed.\n",
      "--------------------------\n",
      "skipping too long input..\n",
      "--------------------------\n",
      "skipping too long input..\n",
      "--------------------------\n",
      "skipping too long input..\n",
      "--------------------------\n",
      "skipping wrong classifed ..\n",
      "--------------------------\n",
      "******  6  ********\n",
      "\t\t 0  --  0.29728526\n",
      "\t\t 1  --  0.29728526\n",
      "\t\t 2  --  0.37396687\n",
      "\t\t 3  --  0.40089488\n",
      "\t\t 4  --  0.4614593\n",
      "\t\t 5  --  0.46541968\n",
      "\t\t 6  --  0.47119212\n",
      "\t\t 7  --  0.48262584\n",
      "\t\t 8  --  0.5005902\n",
      "34 - 8 changed.\n",
      "--------------------------\n",
      "skipping too long input..\n",
      "--------------------------\n",
      "skipping too long input..\n",
      "--------------------------\n",
      "skipping too long input..\n",
      "--------------------------\n",
      "skipping too long input..\n",
      "--------------------------\n",
      "skipping too long input..\n",
      "--------------------------\n",
      "skipping wrong classifed ..\n",
      "--------------------------\n",
      "skipping wrong classifed ..\n",
      "--------------------------\n",
      "******  7  ********\n",
      "\t\t 0  --  0.49616182\n",
      "\t\t 1  --  0.50417155\n",
      "42 - 2 changed.\n",
      "--------------------------\n",
      "skipping wrong classifed ..\n",
      "--------------------------\n",
      "skipping too long input..\n",
      "--------------------------\n",
      "skipping too long input..\n",
      "--------------------------\n",
      "skipping too long input..\n",
      "--------------------------\n",
      "skipping wrong classifed ..\n",
      "--------------------------\n",
      "skipping too long input..\n",
      "--------------------------\n",
      "skipping too long input..\n",
      "--------------------------\n",
      "******  8  ********\n",
      "\t\t 0  --  0.18082285\n",
      "\t\t 1  --  0.20253424\n",
      "\t\t 2  --  0.23522867\n",
      "\t\t 3  --  0.24026793\n",
      "\t\t 4  --  0.27777582\n",
      "\t\t 5  --  0.30311677\n",
      "\t\t 6  --  0.31659847\n",
      "\t\t 7  --  0.33935446\n",
      "\t\t 8  --  0.3652071\n",
      "\t\t 9  --  0.3658338\n",
      "\t\t 10  --  0.3842206\n",
      "\t\t 11  --  0.3842206\n",
      "\t\t 12  --  0.42525396\n",
      "\t\t 13  --  0.44313294\n",
      "\t\t 14  --  0.46093804\n",
      "\t\t 15  --  0.46093804\n",
      "\t\t 16  --  0.46900257\n",
      "\t\t 17  --  0.48600718\n",
      "\t\t 18  --  0.49485794\n",
      "\t\t 19  --  0.49610448\n",
      "\t\t 20  --  0.49610448\n",
      "\t\t 21  --  0.49610448\n",
      "\t\t 22  --  0.5000733\n",
      "50 - 20 changed.\n",
      "--------------------------\n",
      "******  9  ********\n",
      "\t\t 0  --  0.35460696\n",
      "\t\t 1  --  0.3816929\n",
      "\t\t 2  --  0.45107067\n",
      "\t\t 3  --  0.47216332\n",
      "\t\t 4  --  0.5048944\n",
      "51 - 7 changed.\n",
      "--------------------------\n",
      "skipping too long input..\n",
      "--------------------------\n",
      "skipping too long input..\n",
      "--------------------------\n",
      "skipping too long input..\n",
      "--------------------------\n",
      "skipping wrong classifed ..\n",
      "--------------------------\n",
      "skipping too long input..\n",
      "--------------------------\n",
      "skipping too long input..\n",
      "--------------------------\n",
      "skipping too long input..\n",
      "--------------------------\n",
      "skipping too long input..\n",
      "--------------------------\n",
      "skipping too long input..\n",
      "--------------------------\n",
      "skipping too long input..\n",
      "--------------------------\n",
      "******  10  ********\n",
      "\t\t 0  --  0.36636415\n",
      "\t\t 1  --  0.5250432\n",
      "62 - 3 changed.\n",
      "--------------------------\n",
      "skipping wrong classifed ..\n",
      "--------------------------\n",
      "skipping too long input..\n",
      "--------------------------\n",
      "skipping wrong classifed ..\n",
      "--------------------------\n",
      "skipping too long input..\n",
      "--------------------------\n",
      "skipping too long input..\n",
      "--------------------------\n",
      "skipping too long input..\n",
      "--------------------------\n",
      "skipping too long input..\n",
      "--------------------------\n",
      "skipping too long input..\n",
      "--------------------------\n",
      "skipping wrong classifed ..\n",
      "--------------------------\n",
      "skipping wrong classifed ..\n",
      "--------------------------\n",
      "skipping too long input..\n",
      "--------------------------\n",
      "skipping too long input..\n",
      "--------------------------\n",
      "skipping too long input..\n",
      "--------------------------\n",
      "skipping too long input..\n",
      "--------------------------\n",
      "skipping too long input..\n",
      "--------------------------\n",
      "skipping too long input..\n",
      "--------------------------\n",
      "******  11  ********\n",
      "\t\t 0  --  0.27502018\n",
      "\t\t 1  --  0.30349275\n",
      "\t\t 2  --  0.31488645\n",
      "\t\t 3  --  0.4548511\n",
      "\t\t 4  --  0.4548511\n",
      "\t\t 5  --  0.4943649\n",
      "\t\t 6  --  0.4943649\n",
      "\t\t 7  --  0.50661135\n",
      "79 - 11 changed.\n",
      "--------------------------\n",
      "skipping too long input..\n",
      "--------------------------\n",
      "******  12  ********\n",
      "\t\t 0  --  0.28066793\n",
      "\t\t 1  --  0.30552033\n",
      "\t\t 2  --  0.36374047\n",
      "\t\t 3  --  0.4028981\n",
      "\t\t 4  --  0.42845497\n",
      "\t\t 5  --  0.4773858\n",
      "\t\t 6  --  0.5083387\n",
      "81 - 9 changed.\n",
      "--------------------------\n",
      "skipping too long input..\n",
      "--------------------------\n",
      "skipping too long input..\n",
      "--------------------------\n",
      "skipping too long input..\n",
      "--------------------------\n",
      "skipping too long input..\n",
      "--------------------------\n",
      "skipping too long input..\n",
      "--------------------------\n",
      "skipping too long input..\n",
      "--------------------------\n",
      "skipping wrong classifed ..\n",
      "--------------------------\n",
      "skipping too long input..\n",
      "--------------------------\n",
      "skipping too long input..\n",
      "--------------------------\n",
      "skipping too long input..\n",
      "--------------------------\n",
      "skipping wrong classifed ..\n",
      "--------------------------\n",
      "******  13  ********\n",
      "\t\t 0  --  0.45042214\n",
      "\t\t 1  --  0.49184304\n",
      "\t\t 2  --  0.52581924\n",
      "93 - 1 changed.\n",
      "--------------------------\n",
      "skipping too long input..\n",
      "--------------------------\n",
      "skipping too long input..\n",
      "--------------------------\n",
      "skipping too long input..\n",
      "--------------------------\n",
      "skipping too long input..\n",
      "--------------------------\n",
      "skipping too long input..\n",
      "--------------------------\n",
      "skipping too long input..\n",
      "--------------------------\n",
      "skipping too long input..\n",
      "--------------------------\n",
      "skipping too long input..\n",
      "--------------------------\n",
      "skipping too long input..\n",
      "--------------------------\n",
      "skipping too long input..\n",
      "--------------------------\n",
      "skipping too long input..\n",
      "--------------------------\n",
      "skipping too long input..\n",
      "--------------------------\n",
      "skipping too long input..\n",
      "--------------------------\n",
      "skipping too long input..\n",
      "--------------------------\n",
      "skipping too long input..\n",
      "--------------------------\n",
      "skipping too long input..\n",
      "--------------------------\n",
      "skipping too long input..\n",
      "--------------------------\n",
      "skipping too long input..\n",
      "--------------------------\n",
      "skipping too long input..\n",
      "--------------------------\n",
      "skipping too long input..\n",
      "--------------------------\n"
     ]
    },
    {
     "name": "stdout",
     "output_type": "stream",
     "text": [
      "skipping wrong classifed ..\n",
      "--------------------------\n",
      "skipping too long input..\n",
      "--------------------------\n",
      "skipping too long input..\n",
      "--------------------------\n",
      "******  14  ********\n",
      "\t\t 0  --  0.2780798\n",
      "\t\t 1  --  0.42535764\n",
      "\t\t 2  --  0.46358812\n",
      "\t\t 3  --  0.59846497\n",
      "117 - 5 changed.\n",
      "--------------------------\n",
      "skipping wrong classifed ..\n",
      "--------------------------\n",
      "skipping too long input..\n",
      "--------------------------\n",
      "skipping too long input..\n",
      "--------------------------\n",
      "******  15  ********\n",
      "\t\t 0  --  0.25391755\n",
      "\t\t 1  --  0.26152465\n",
      "\t\t 2  --  0.31985328\n",
      "\t\t 3  --  0.31985328\n",
      "\t\t 4  --  0.33081475\n",
      "\t\t 5  --  0.38068584\n",
      "\t\t 6  --  0.38959813\n",
      "\t\t 7  --  0.38959813\n",
      "\t\t 8  --  0.4041461\n",
      "\t\t 9  --  0.4041461\n",
      "\t\t 10  --  0.4359135\n",
      "\t\t 11  --  0.47622898\n",
      "\t\t 12  --  0.52183485\n",
      "121 - 14 changed.\n",
      "--------------------------\n",
      "skipping too long input..\n",
      "--------------------------\n",
      "skipping too long input..\n",
      "--------------------------\n",
      "skipping too long input..\n",
      "--------------------------\n",
      "skipping too long input..\n",
      "--------------------------\n",
      "skipping too long input..\n",
      "--------------------------\n",
      "skipping too long input..\n",
      "--------------------------\n",
      "******  16  ********\n",
      "\t\t 0  --  0.17636609\n",
      "\t\t 1  --  0.23211466\n",
      "\t\t 2  --  0.23211466\n",
      "\t\t 3  --  0.23211466\n",
      "\t\t 4  --  0.31527153\n",
      "\t\t 5  --  0.34676725\n",
      "\t\t 6  --  0.37362143\n",
      "\t\t 7  --  0.41235936\n",
      "\t\t 8  --  0.41235936\n",
      "\t\t 9  --  0.48517737\n",
      "\t\t 10  --  0.48517737\n",
      "\t\t 11  --  0.50351834\n",
      "128 - 14 changed.\n",
      "--------------------------\n",
      "skipping too long input..\n",
      "--------------------------\n",
      "skipping too long input..\n",
      "--------------------------\n",
      "skipping too long input..\n",
      "--------------------------\n",
      "skipping too long input..\n",
      "--------------------------\n",
      "skipping too long input..\n",
      "--------------------------\n",
      "skipping too long input..\n",
      "--------------------------\n",
      "skipping too long input..\n",
      "--------------------------\n",
      "skipping too long input..\n",
      "--------------------------\n",
      "skipping too long input..\n",
      "--------------------------\n",
      "******  17  ********\n",
      "\t\t 0  --  0.32876316\n",
      "\t\t 1  --  0.35563603\n",
      "\t\t 2  --  0.40564182\n",
      "\t\t 3  --  0.42958906\n",
      "\t\t 4  --  0.47762775\n",
      "\t\t 5  --  0.50658554\n",
      "138 - 12 changed.\n",
      "--------------------------\n",
      "skipping too long input..\n",
      "--------------------------\n",
      "skipping too long input..\n",
      "--------------------------\n",
      "skipping too long input..\n",
      "--------------------------\n",
      "skipping too long input..\n",
      "--------------------------\n",
      "skipping too long input..\n",
      "--------------------------\n",
      "skipping too long input..\n",
      "--------------------------\n",
      "skipping too long input..\n",
      "--------------------------\n",
      "skipping too long input..\n",
      "--------------------------\n",
      "skipping too long input..\n",
      "--------------------------\n",
      "******  18  ********\n",
      "\t\t 0  --  0.45943147\n",
      "\t\t 1  --  0.49696654\n",
      "\t\t 2  --  0.5086593\n",
      "148 - 4 changed.\n",
      "--------------------------\n",
      "skipping too long input..\n",
      "--------------------------\n",
      "skipping too long input..\n",
      "--------------------------\n",
      "skipping too long input..\n",
      "--------------------------\n",
      "******  19  ********\n",
      "\t\t 0  --  0.39614835\n",
      "\t\t 1  --  0.42430696\n",
      "\t\t 2  --  0.4559202\n",
      "\t\t 3  --  0.47539705\n",
      "\t\t 4  --  0.52346426\n",
      "152 - 8 changed.\n",
      "--------------------------\n",
      "skipping too long input..\n",
      "--------------------------\n",
      "******  20  ********\n",
      "\t\t 0  --  0.21167392\n",
      "\t\t 1  --  0.27319196\n",
      "\t\t 2  --  0.30179983\n",
      "\t\t 3  --  0.42473358\n",
      "\t\t 4  --  0.42473358\n",
      "\t\t 5  --  0.5196379\n",
      "154 - 11 changed.\n",
      "--------------------------\n",
      "skipping too long input..\n",
      "--------------------------\n",
      "skipping too long input..\n",
      "--------------------------\n",
      "******  21  ********\n",
      "\t\t 0  --  0.45438725\n",
      "\t\t 1  --  0.47441396\n",
      "\t\t 2  --  0.53738797\n",
      "157 - 4 changed.\n",
      "--------------------------\n",
      "skipping too long input..\n",
      "--------------------------\n",
      "skipping too long input..\n",
      "--------------------------\n",
      "skipping too long input..\n",
      "--------------------------\n",
      "skipping wrong classifed ..\n",
      "--------------------------\n",
      "skipping too long input..\n",
      "--------------------------\n",
      "skipping too long input..\n",
      "--------------------------\n",
      "skipping too long input..\n",
      "--------------------------\n",
      "skipping wrong classifed ..\n",
      "--------------------------\n",
      "skipping too long input..\n",
      "--------------------------\n",
      "skipping too long input..\n",
      "--------------------------\n",
      "skipping wrong classifed ..\n",
      "--------------------------\n",
      "skipping too long input..\n",
      "--------------------------\n",
      "******  22  ********\n",
      "\t\t 0  --  0.46010503\n",
      "\t\t 1  --  0.5002974\n",
      "170 - 3 changed.\n",
      "--------------------------\n",
      "skipping wrong classifed ..\n",
      "--------------------------\n",
      "skipping too long input..\n",
      "--------------------------\n",
      "skipping too long input..\n",
      "--------------------------\n",
      "skipping wrong classifed ..\n",
      "--------------------------\n",
      "skipping too long input..\n",
      "--------------------------\n",
      "******  23  ********\n",
      "\t\t 0  --  0.35792044\n",
      "\t\t 1  --  0.3830755\n",
      "\t\t 2  --  0.43728447\n",
      "\t\t 3  --  0.67025685\n",
      "176 - 5 changed.\n",
      "--------------------------\n",
      "skipping too long input..\n",
      "--------------------------\n",
      "skipping too long input..\n",
      "--------------------------\n",
      "skipping too long input..\n",
      "--------------------------\n",
      "skipping wrong classifed ..\n",
      "--------------------------\n",
      "skipping wrong classifed ..\n",
      "--------------------------\n",
      "skipping wrong classifed ..\n",
      "--------------------------\n",
      "skipping too long input..\n",
      "--------------------------\n",
      "skipping too long input..\n",
      "--------------------------\n",
      "skipping too long input..\n",
      "--------------------------\n",
      "skipping too long input..\n",
      "--------------------------\n",
      "skipping too long input..\n",
      "--------------------------\n",
      "skipping too long input..\n",
      "--------------------------\n",
      "skipping too long input..\n",
      "--------------------------\n",
      "skipping too long input..\n",
      "--------------------------\n",
      "skipping too long input..\n",
      "--------------------------\n",
      "skipping too long input..\n",
      "--------------------------\n",
      "skipping wrong classifed ..\n",
      "--------------------------\n",
      "skipping too long input..\n",
      "--------------------------\n",
      "skipping too long input..\n",
      "--------------------------\n",
      "skipping too long input..\n",
      "--------------------------\n",
      "skipping too long input..\n",
      "--------------------------\n",
      "******  24  ********\n",
      "\t\t 0  --  0.5149055\n",
      "198 - 1 changed.\n",
      "--------------------------\n",
      "skipping too long input..\n",
      "--------------------------\n",
      "skipping wrong classifed ..\n",
      "--------------------------\n",
      "skipping wrong classifed ..\n",
      "--------------------------\n",
      "skipping too long input..\n",
      "--------------------------\n",
      "skipping too long input..\n",
      "--------------------------\n",
      "skipping too long input..\n",
      "--------------------------\n",
      "skipping too long input..\n",
      "--------------------------\n",
      "skipping too long input..\n",
      "--------------------------\n",
      "skipping too long input..\n",
      "--------------------------\n",
      "******  25  ********\n",
      "\t\t 0  --  0.36145166\n",
      "\t\t 1  --  0.48352826\n",
      "\t\t 2  --  0.5323296\n",
      "208 - 5 changed.\n",
      "--------------------------\n",
      "skipping too long input..\n",
      "--------------------------\n",
      "skipping wrong classifed ..\n",
      "--------------------------\n",
      "skipping too long input..\n",
      "--------------------------\n",
      "skipping too long input..\n",
      "--------------------------\n",
      "skipping too long input..\n",
      "--------------------------\n",
      "skipping too long input..\n",
      "--------------------------\n",
      "skipping too long input..\n",
      "--------------------------\n",
      "skipping too long input..\n",
      "--------------------------\n",
      "******  26  ********\n",
      "\t\t 0  --  0.05097676\n",
      "\t\t 1  --  0.06328458\n",
      "\t\t 2  --  0.06840489\n",
      "\t\t 3  --  0.11510936\n",
      "\t\t 4  --  0.11510936\n",
      "\t\t 5  --  0.1366267\n",
      "\t\t 6  --  0.14801934\n",
      "\t\t 7  --  0.1693284\n",
      "\t\t 8  --  0.17485885\n",
      "\t\t 9  --  0.18980464\n",
      "\t\t 10  --  0.23627466\n",
      "\t\t 11  --  0.2587333\n",
      "\t\t 12  --  0.326857\n",
      "\t\t 13  --  0.326857\n",
      "\t\t 14  --  0.3702608\n",
      "\t\t 15  --  0.3702608\n",
      "\t\t 16  --  0.3702608\n",
      "\t\t 17  --  0.37802333\n",
      "\t\t 18  --  0.4320343\n",
      "\t\t 19  --  0.4668878\n",
      "\t\t 20  --  0.47315684\n",
      "\t\t 21  --  0.49357164\n",
      "\t\t 22  --  0.53234637\n",
      "217 - 24 changed.\n",
      "--------------------------\n",
      "skipping wrong classifed ..\n",
      "--------------------------\n",
      "skipping too long input..\n",
      "--------------------------\n",
      "skipping too long input..\n",
      "--------------------------\n",
      "skipping wrong classifed ..\n",
      "--------------------------\n",
      "skipping too long input..\n",
      "--------------------------\n",
      "skipping too long input..\n",
      "--------------------------\n",
      "skipping too long input..\n",
      "--------------------------\n",
      "skipping too long input..\n",
      "--------------------------\n",
      "skipping too long input..\n",
      "--------------------------\n",
      "skipping too long input..\n",
      "--------------------------\n",
      "skipping too long input..\n",
      "--------------------------\n",
      "skipping too long input..\n",
      "--------------------------\n",
      "skipping too long input..\n",
      "--------------------------\n",
      "skipping too long input..\n",
      "--------------------------\n",
      "skipping too long input..\n",
      "--------------------------\n"
     ]
    },
    {
     "name": "stdout",
     "output_type": "stream",
     "text": [
      "skipping too long input..\n",
      "--------------------------\n",
      "skipping wrong classifed ..\n",
      "--------------------------\n",
      "skipping too long input..\n",
      "--------------------------\n",
      "skipping too long input..\n",
      "--------------------------\n",
      "skipping too long input..\n",
      "--------------------------\n",
      "skipping too long input..\n",
      "--------------------------\n",
      "skipping too long input..\n",
      "--------------------------\n",
      "skipping too long input..\n",
      "--------------------------\n",
      "skipping too long input..\n",
      "--------------------------\n",
      "skipping too long input..\n",
      "--------------------------\n",
      "skipping too long input..\n",
      "--------------------------\n",
      "skipping too long input..\n",
      "--------------------------\n",
      "skipping too long input..\n",
      "--------------------------\n",
      "******  27  ********\n",
      "\t\t 0  --  0.08497903\n",
      "\t\t 1  --  0.116107926\n",
      "\t\t 2  --  0.12578022\n",
      "\t\t 3  --  0.14885618\n",
      "\t\t 4  --  0.17253011\n",
      "\t\t 5  --  0.1941384\n",
      "\t\t 6  --  0.22847949\n",
      "\t\t 7  --  0.23138979\n",
      "\t\t 8  --  0.24679948\n",
      "\t\t 9  --  0.24801531\n",
      "\t\t 10  --  0.27816123\n",
      "\t\t 11  --  0.29613268\n",
      "\t\t 12  --  0.29613268\n",
      "\t\t 13  --  0.34113267\n",
      "\t\t 14  --  0.34113267\n",
      "\t\t 15  --  0.34113267\n",
      "\t\t 16  --  0.37770474\n",
      "\t\t 17  --  0.40791664\n",
      "\t\t 18  --  0.40791664\n",
      "\t\t 19  --  0.40791664\n",
      "\t\t 20  --  0.42406005\n",
      "\t\t 21  --  0.49126586\n",
      "\t\t 22  --  0.49126586\n",
      "\t\t 23  --  0.49218324\n",
      "\t\t 24  --  0.49218324\n",
      "\t\t 25  --  0.49218324\n",
      "\t\t 26  --  0.49218324\n",
      "\t\t 27  --  0.49290594\n",
      "\t\t 28  --  0.5055924\n",
      "246 - 25 changed.\n",
      "--------------------------\n",
      "skipping wrong classifed ..\n",
      "--------------------------\n",
      "******  28  ********\n",
      "\t\t 0  --  0.14802866\n",
      "\t\t 1  --  0.1730108\n",
      "\t\t 2  --  0.24791268\n",
      "\t\t 3  --  0.29842296\n",
      "\t\t 4  --  0.29842296\n",
      "\t\t 5  --  0.29842296\n",
      "\t\t 6  --  0.32851166\n",
      "\t\t 7  --  0.3494157\n",
      "\t\t 8  --  0.35443276\n",
      "\t\t 9  --  0.42540747\n",
      "\t\t 10  --  0.4302472\n",
      "\t\t 11  --  0.4302472\n",
      "\t\t 12  --  0.4792509\n",
      "\t\t 13  --  0.4792509\n",
      "\t\t 14  --  0.51570606\n",
      "248 - 18 changed.\n",
      "--------------------------\n",
      "******  29  ********\n",
      "\t\t 0  --  0.037905406\n",
      "\t\t 1  --  0.051015954\n",
      "\t\t 2  --  0.061430473\n",
      "\t\t 3  --  0.06504568\n",
      "\t\t 4  --  0.07190142\n",
      "\t\t 5  --  0.083558895\n",
      "\t\t 6  --  0.09251761\n",
      "\t\t 7  --  0.12054234\n",
      "\t\t 8  --  0.12420478\n",
      "\t\t 9  --  0.13863601\n",
      "\t\t 10  --  0.13907899\n",
      "\t\t 11  --  0.150587\n",
      "\t\t 12  --  0.16626015\n",
      "\t\t 13  --  0.17895666\n",
      "\t\t 14  --  0.21406943\n",
      "\t\t 15  --  0.21406943\n",
      "\t\t 16  --  0.21406943\n",
      "\t\t 17  --  0.21406943\n",
      "\t\t 18  --  0.21406943\n",
      "\t\t 19  --  0.24899094\n",
      "\t\t 20  --  0.24899094\n",
      "\t\t 21  --  0.24899094\n",
      "\t\t 22  --  0.24899094\n",
      "\t\t 23  --  0.25546306\n",
      "\t\t 24  --  0.28840497\n",
      "\t\t 25  --  0.33330122\n",
      "\t\t 26  --  0.37103194\n",
      "\t\t 27  --  0.37103194\n",
      "\t\t 28  --  0.3850047\n",
      "\t\t 29  --  0.3850047\n",
      "249 failed\n",
      "--------------------------\n",
      "skipping too long input..\n",
      "--------------------------\n",
      "skipping too long input..\n",
      "--------------------------\n",
      "skipping too long input..\n",
      "--------------------------\n",
      "skipping too long input..\n",
      "--------------------------\n",
      "skipping too long input..\n",
      "--------------------------\n",
      "******  30  ********\n",
      "\t\t 0  --  0.38029188\n",
      "\t\t 1  --  0.46348172\n",
      "\t\t 2  --  0.5047015\n",
      "255 - 3 changed.\n",
      "--------------------------\n",
      "skipping too long input..\n",
      "--------------------------\n",
      "skipping too long input..\n",
      "--------------------------\n",
      "skipping too long input..\n",
      "--------------------------\n",
      "skipping too long input..\n",
      "--------------------------\n",
      "******  31  ********\n",
      "\t\t 0  --  0.5090629\n",
      "260 - 1 changed.\n",
      "--------------------------\n",
      "skipping too long input..\n",
      "--------------------------\n",
      "skipping too long input..\n",
      "--------------------------\n",
      "skipping too long input..\n",
      "--------------------------\n",
      "skipping too long input..\n",
      "--------------------------\n",
      "skipping too long input..\n",
      "--------------------------\n",
      "skipping too long input..\n",
      "--------------------------\n",
      "skipping too long input..\n",
      "--------------------------\n",
      "skipping too long input..\n",
      "--------------------------\n",
      "******  32  ********\n",
      "\t\t 0  --  0.04049417\n",
      "\t\t 1  --  0.04634511\n",
      "\t\t 2  --  0.05381047\n",
      "\t\t 3  --  0.05381047\n",
      "\t\t 4  --  0.06149704\n",
      "\t\t 5  --  0.06149704\n"
     ]
    },
    {
     "ename": "KeyboardInterrupt",
     "evalue": "",
     "output_type": "error",
     "traceback": [
      "\u001b[0;31m---------------------------------------------------------------------------\u001b[0m",
      "\u001b[0;31mKeyboardInterrupt\u001b[0m                         Traceback (most recent call last)",
      "\u001b[0;32m<ipython-input-22-1eddc7f1e60a>\u001b[0m in \u001b[0;36m<module>\u001b[0;34m()\u001b[0m\n\u001b[1;32m     34\u001b[0m     \u001b[0mtarget_label\u001b[0m \u001b[0;34m=\u001b[0m \u001b[0;36m1\u001b[0m \u001b[0;32mif\u001b[0m \u001b[0morig_label\u001b[0m \u001b[0;34m==\u001b[0m \u001b[0;36m0\u001b[0m \u001b[0;32melse\u001b[0m \u001b[0;36m0\u001b[0m\u001b[0;34m\u001b[0m\u001b[0m\n\u001b[1;32m     35\u001b[0m     \u001b[0morig_label_list\u001b[0m\u001b[0;34m.\u001b[0m\u001b[0mappend\u001b[0m\u001b[0;34m(\u001b[0m\u001b[0morig_label\u001b[0m\u001b[0;34m)\u001b[0m\u001b[0;34m\u001b[0m\u001b[0m\n\u001b[0;32m---> 36\u001b[0;31m     \u001b[0mx_adv\u001b[0m \u001b[0;34m=\u001b[0m \u001b[0mga_atttack\u001b[0m\u001b[0;34m.\u001b[0m\u001b[0mattack\u001b[0m\u001b[0;34m(\u001b[0m \u001b[0mx_orig\u001b[0m\u001b[0;34m,\u001b[0m \u001b[0mtarget_label\u001b[0m\u001b[0;34m)\u001b[0m\u001b[0;34m\u001b[0m\u001b[0m\n\u001b[0m\u001b[1;32m     37\u001b[0m     \u001b[0madv_list\u001b[0m\u001b[0;34m.\u001b[0m\u001b[0mappend\u001b[0m\u001b[0;34m(\u001b[0m\u001b[0mx_adv\u001b[0m\u001b[0;34m)\u001b[0m\u001b[0;34m\u001b[0m\u001b[0m\n\u001b[1;32m     38\u001b[0m     \u001b[0;32mif\u001b[0m \u001b[0mx_adv\u001b[0m \u001b[0;32mis\u001b[0m \u001b[0;32mNone\u001b[0m\u001b[0;34m:\u001b[0m\u001b[0;34m\u001b[0m\u001b[0m\n",
      "\u001b[0;32m/home/malzantot/Nesl/acl2/attacks.py\u001b[0m in \u001b[0;36mattack\u001b[0;34m(self, x_orig, target, max_change)\u001b[0m\n\u001b[1;32m    153\u001b[0m                                      pop[parent2_idx[i]])\n\u001b[1;32m    154\u001b[0m                       for i in range(self.pop_size-1)]\n\u001b[0;32m--> 155\u001b[0;31m             \u001b[0mchilds\u001b[0m \u001b[0;34m=\u001b[0m \u001b[0;34m[\u001b[0m\u001b[0mself\u001b[0m\u001b[0;34m.\u001b[0m\u001b[0mperturb\u001b[0m\u001b[0;34m(\u001b[0m\u001b[0mx\u001b[0m\u001b[0;34m,\u001b[0m \u001b[0mx_orig\u001b[0m\u001b[0;34m,\u001b[0m \u001b[0mneigbhours_list\u001b[0m\u001b[0;34m,\u001b[0m \u001b[0mneighbours_dist\u001b[0m\u001b[0;34m,\u001b[0m \u001b[0mw_select_probs\u001b[0m\u001b[0;34m,\u001b[0m \u001b[0mtarget\u001b[0m\u001b[0;34m)\u001b[0m \u001b[0;32mfor\u001b[0m \u001b[0mx\u001b[0m \u001b[0;32min\u001b[0m \u001b[0mchilds\u001b[0m\u001b[0;34m]\u001b[0m\u001b[0;34m\u001b[0m\u001b[0m\n\u001b[0m\u001b[1;32m    156\u001b[0m             \u001b[0mpop\u001b[0m \u001b[0;34m=\u001b[0m \u001b[0melite\u001b[0m \u001b[0;34m+\u001b[0m \u001b[0mchilds\u001b[0m\u001b[0;34m\u001b[0m\u001b[0m\n\u001b[1;32m    157\u001b[0m \u001b[0;34m\u001b[0m\u001b[0m\n",
      "\u001b[0;32m/home/malzantot/Nesl/acl2/attacks.py\u001b[0m in \u001b[0;36m<listcomp>\u001b[0;34m(.0)\u001b[0m\n\u001b[1;32m    153\u001b[0m                                      pop[parent2_idx[i]])\n\u001b[1;32m    154\u001b[0m                       for i in range(self.pop_size-1)]\n\u001b[0;32m--> 155\u001b[0;31m             \u001b[0mchilds\u001b[0m \u001b[0;34m=\u001b[0m \u001b[0;34m[\u001b[0m\u001b[0mself\u001b[0m\u001b[0;34m.\u001b[0m\u001b[0mperturb\u001b[0m\u001b[0;34m(\u001b[0m\u001b[0mx\u001b[0m\u001b[0;34m,\u001b[0m \u001b[0mx_orig\u001b[0m\u001b[0;34m,\u001b[0m \u001b[0mneigbhours_list\u001b[0m\u001b[0;34m,\u001b[0m \u001b[0mneighbours_dist\u001b[0m\u001b[0;34m,\u001b[0m \u001b[0mw_select_probs\u001b[0m\u001b[0;34m,\u001b[0m \u001b[0mtarget\u001b[0m\u001b[0;34m)\u001b[0m \u001b[0;32mfor\u001b[0m \u001b[0mx\u001b[0m \u001b[0;32min\u001b[0m \u001b[0mchilds\u001b[0m\u001b[0;34m]\u001b[0m\u001b[0;34m\u001b[0m\u001b[0m\n\u001b[0m\u001b[1;32m    156\u001b[0m             \u001b[0mpop\u001b[0m \u001b[0;34m=\u001b[0m \u001b[0melite\u001b[0m \u001b[0;34m+\u001b[0m \u001b[0mchilds\u001b[0m\u001b[0;34m\u001b[0m\u001b[0m\n\u001b[1;32m    157\u001b[0m \u001b[0;34m\u001b[0m\u001b[0m\n",
      "\u001b[0;32m/home/malzantot/Nesl/acl2/attacks.py\u001b[0m in \u001b[0;36mperturb\u001b[0;34m(self, x_cur, x_orig, neigbhours, neighbours_dist, w_select_probs, target)\u001b[0m\n\u001b[1;32m    103\u001b[0m         \u001b[0;32mif\u001b[0m \u001b[0mlen\u001b[0m\u001b[0;34m(\u001b[0m\u001b[0mreplace_list\u001b[0m\u001b[0;34m)\u001b[0m \u001b[0;34m<\u001b[0m \u001b[0mself\u001b[0m\u001b[0;34m.\u001b[0m\u001b[0mtop_n\u001b[0m\u001b[0;34m:\u001b[0m\u001b[0;34m\u001b[0m\u001b[0m\n\u001b[1;32m    104\u001b[0m             \u001b[0mreplace_list\u001b[0m \u001b[0;34m=\u001b[0m \u001b[0mnp\u001b[0m\u001b[0;34m.\u001b[0m\u001b[0mconcatenate\u001b[0m\u001b[0;34m(\u001b[0m\u001b[0;34m(\u001b[0m\u001b[0mreplace_list\u001b[0m\u001b[0;34m,\u001b[0m \u001b[0mnp\u001b[0m\u001b[0;34m.\u001b[0m\u001b[0mzeros\u001b[0m\u001b[0;34m(\u001b[0m\u001b[0mself\u001b[0m\u001b[0;34m.\u001b[0m\u001b[0mtop_n\u001b[0m \u001b[0;34m-\u001b[0m \u001b[0mreplace_list\u001b[0m\u001b[0;34m.\u001b[0m\u001b[0mshape\u001b[0m\u001b[0;34m[\u001b[0m\u001b[0;36m0\u001b[0m\u001b[0;34m]\u001b[0m\u001b[0;34m)\u001b[0m\u001b[0;34m)\u001b[0m\u001b[0;34m)\u001b[0m\u001b[0;34m\u001b[0m\u001b[0m\n\u001b[0;32m--> 105\u001b[0;31m         \u001b[0;32mreturn\u001b[0m \u001b[0mself\u001b[0m\u001b[0;34m.\u001b[0m\u001b[0mselect_best_replacement\u001b[0m\u001b[0;34m(\u001b[0m\u001b[0mrand_idx\u001b[0m\u001b[0;34m,\u001b[0m \u001b[0mx_cur\u001b[0m\u001b[0;34m,\u001b[0m \u001b[0mx_orig\u001b[0m\u001b[0;34m,\u001b[0m \u001b[0mtarget\u001b[0m\u001b[0;34m,\u001b[0m \u001b[0mreplace_list\u001b[0m\u001b[0;34m)\u001b[0m\u001b[0;34m\u001b[0m\u001b[0m\n\u001b[0m\u001b[1;32m    106\u001b[0m \u001b[0;34m\u001b[0m\u001b[0m\n\u001b[1;32m    107\u001b[0m     \u001b[0;32mdef\u001b[0m \u001b[0mgenerate_population\u001b[0m\u001b[0;34m(\u001b[0m\u001b[0mself\u001b[0m\u001b[0;34m,\u001b[0m \u001b[0mx_orig\u001b[0m\u001b[0;34m,\u001b[0m \u001b[0mneigbhours_list\u001b[0m\u001b[0;34m,\u001b[0m \u001b[0mneighbours_dist\u001b[0m\u001b[0;34m,\u001b[0m \u001b[0mw_select_probs\u001b[0m\u001b[0;34m,\u001b[0m \u001b[0mtarget\u001b[0m\u001b[0;34m,\u001b[0m \u001b[0mpop_size\u001b[0m\u001b[0;34m)\u001b[0m\u001b[0;34m:\u001b[0m\u001b[0;34m\u001b[0m\u001b[0m\n",
      "\u001b[0;32m/home/malzantot/Nesl/acl2/attacks.py\u001b[0m in \u001b[0;36mselect_best_replacement\u001b[0;34m(self, pos, x_cur, x_orig, target, replace_list)\u001b[0m\n\u001b[1;32m     68\u001b[0m             \u001b[0mreplace_words_and_orig\u001b[0m \u001b[0;34m=\u001b[0m \u001b[0;34m[\u001b[0m\u001b[0mself\u001b[0m\u001b[0;34m.\u001b[0m\u001b[0mdataset\u001b[0m\u001b[0;34m.\u001b[0m\u001b[0minv_dict\u001b[0m\u001b[0;34m[\u001b[0m\u001b[0mw\u001b[0m\u001b[0;34m]\u001b[0m \u001b[0;32mif\u001b[0m \u001b[0mw\u001b[0m \u001b[0;32min\u001b[0m \u001b[0mself\u001b[0m\u001b[0;34m.\u001b[0m\u001b[0mdataset\u001b[0m\u001b[0;34m.\u001b[0m\u001b[0minv_dict\u001b[0m \u001b[0;32melse\u001b[0m \u001b[0;34m'UNK'\u001b[0m \u001b[0;32mfor\u001b[0m \u001b[0mw\u001b[0m \u001b[0;32min\u001b[0m \u001b[0mreplace_list\u001b[0m\u001b[0;34m[\u001b[0m\u001b[0;34m:\u001b[0m\u001b[0mself\u001b[0m\u001b[0;34m.\u001b[0m\u001b[0mtop_n\u001b[0m\u001b[0;34m]\u001b[0m \u001b[0;34m]\u001b[0m \u001b[0;34m+\u001b[0m \u001b[0;34m[\u001b[0m\u001b[0morig_word\u001b[0m\u001b[0;34m]\u001b[0m\u001b[0;34m\u001b[0m\u001b[0m\n\u001b[1;32m     69\u001b[0m             \u001b[0;31m#print(replace_words_and_orig)\u001b[0m\u001b[0;34m\u001b[0m\u001b[0;34m\u001b[0m\u001b[0m\n\u001b[0;32m---> 70\u001b[0;31m             \u001b[0mreplace_words_lm_scores\u001b[0m \u001b[0;34m=\u001b[0m \u001b[0mself\u001b[0m\u001b[0;34m.\u001b[0m\u001b[0mlm\u001b[0m\u001b[0;34m.\u001b[0m\u001b[0mget_words_probs\u001b[0m\u001b[0;34m(\u001b[0m\u001b[0mprefix\u001b[0m\u001b[0;34m,\u001b[0m \u001b[0mreplace_words_and_orig\u001b[0m\u001b[0;34m,\u001b[0m \u001b[0msuffix\u001b[0m\u001b[0;34m)\u001b[0m\u001b[0;34m\u001b[0m\u001b[0m\n\u001b[0m\u001b[1;32m     71\u001b[0m             \u001b[0;31m#print(replace_words_lm_scores)\u001b[0m\u001b[0;34m\u001b[0m\u001b[0;34m\u001b[0m\u001b[0m\n\u001b[1;32m     72\u001b[0m             \u001b[0;31m#for i in range(len(replace_words_and_orig)):\u001b[0m\u001b[0;34m\u001b[0m\u001b[0;34m\u001b[0m\u001b[0m\n",
      "\u001b[0;32m/home/malzantot/Nesl/acl2/goog_lm.py\u001b[0m in \u001b[0;36mget_words_probs\u001b[0;34m(self, prefix_words, list_words, suffix)\u001b[0m\n\u001b[1;32m     55\u001b[0m             \u001b[0mself\u001b[0m\u001b[0;34m.\u001b[0m\u001b[0mt\u001b[0m\u001b[0;34m[\u001b[0m\u001b[0;34m'inputs_in'\u001b[0m\u001b[0;34m]\u001b[0m\u001b[0;34m:\u001b[0m \u001b[0minputs\u001b[0m\u001b[0;34m,\u001b[0m\u001b[0;34m\u001b[0m\u001b[0m\n\u001b[1;32m     56\u001b[0m             \u001b[0mself\u001b[0m\u001b[0;34m.\u001b[0m\u001b[0mt\u001b[0m\u001b[0;34m[\u001b[0m\u001b[0;34m'targets_in'\u001b[0m\u001b[0;34m]\u001b[0m\u001b[0;34m:\u001b[0m \u001b[0mtargets\u001b[0m\u001b[0;34m,\u001b[0m\u001b[0;34m\u001b[0m\u001b[0m\n\u001b[0;32m---> 57\u001b[0;31m             \u001b[0mself\u001b[0m\u001b[0;34m.\u001b[0m\u001b[0mt\u001b[0m\u001b[0;34m[\u001b[0m\u001b[0;34m'target_weights_in'\u001b[0m\u001b[0;34m]\u001b[0m\u001b[0;34m:\u001b[0m \u001b[0mweights\u001b[0m\u001b[0;34m\u001b[0m\u001b[0m\n\u001b[0m\u001b[1;32m     58\u001b[0m         })\n\u001b[1;32m     59\u001b[0m         \u001b[0;31m# print(list_words)\u001b[0m\u001b[0;34m\u001b[0m\u001b[0;34m\u001b[0m\u001b[0m\n",
      "\u001b[0;32m/home/malzantot/.local/lib/python3.6/site-packages/tensorflow/python/client/session.py\u001b[0m in \u001b[0;36mrun\u001b[0;34m(self, fetches, feed_dict, options, run_metadata)\u001b[0m\n\u001b[1;32m    898\u001b[0m     \u001b[0;32mtry\u001b[0m\u001b[0;34m:\u001b[0m\u001b[0;34m\u001b[0m\u001b[0m\n\u001b[1;32m    899\u001b[0m       result = self._run(None, fetches, feed_dict, options_ptr,\n\u001b[0;32m--> 900\u001b[0;31m                          run_metadata_ptr)\n\u001b[0m\u001b[1;32m    901\u001b[0m       \u001b[0;32mif\u001b[0m \u001b[0mrun_metadata\u001b[0m\u001b[0;34m:\u001b[0m\u001b[0;34m\u001b[0m\u001b[0m\n\u001b[1;32m    902\u001b[0m         \u001b[0mproto_data\u001b[0m \u001b[0;34m=\u001b[0m \u001b[0mtf_session\u001b[0m\u001b[0;34m.\u001b[0m\u001b[0mTF_GetBuffer\u001b[0m\u001b[0;34m(\u001b[0m\u001b[0mrun_metadata_ptr\u001b[0m\u001b[0;34m)\u001b[0m\u001b[0;34m\u001b[0m\u001b[0m\n",
      "\u001b[0;32m/home/malzantot/.local/lib/python3.6/site-packages/tensorflow/python/client/session.py\u001b[0m in \u001b[0;36m_run\u001b[0;34m(self, handle, fetches, feed_dict, options, run_metadata)\u001b[0m\n\u001b[1;32m   1133\u001b[0m     \u001b[0;32mif\u001b[0m \u001b[0mfinal_fetches\u001b[0m \u001b[0;32mor\u001b[0m \u001b[0mfinal_targets\u001b[0m \u001b[0;32mor\u001b[0m \u001b[0;34m(\u001b[0m\u001b[0mhandle\u001b[0m \u001b[0;32mand\u001b[0m \u001b[0mfeed_dict_tensor\u001b[0m\u001b[0;34m)\u001b[0m\u001b[0;34m:\u001b[0m\u001b[0;34m\u001b[0m\u001b[0m\n\u001b[1;32m   1134\u001b[0m       results = self._do_run(handle, final_targets, final_fetches,\n\u001b[0;32m-> 1135\u001b[0;31m                              feed_dict_tensor, options, run_metadata)\n\u001b[0m\u001b[1;32m   1136\u001b[0m     \u001b[0;32melse\u001b[0m\u001b[0;34m:\u001b[0m\u001b[0;34m\u001b[0m\u001b[0m\n\u001b[1;32m   1137\u001b[0m       \u001b[0mresults\u001b[0m \u001b[0;34m=\u001b[0m \u001b[0;34m[\u001b[0m\u001b[0;34m]\u001b[0m\u001b[0;34m\u001b[0m\u001b[0m\n",
      "\u001b[0;32m/home/malzantot/.local/lib/python3.6/site-packages/tensorflow/python/client/session.py\u001b[0m in \u001b[0;36m_do_run\u001b[0;34m(self, handle, target_list, fetch_list, feed_dict, options, run_metadata)\u001b[0m\n\u001b[1;32m   1314\u001b[0m     \u001b[0;32mif\u001b[0m \u001b[0mhandle\u001b[0m \u001b[0;32mis\u001b[0m \u001b[0;32mNone\u001b[0m\u001b[0;34m:\u001b[0m\u001b[0;34m\u001b[0m\u001b[0m\n\u001b[1;32m   1315\u001b[0m       return self._do_call(_run_fn, feeds, fetches, targets, options,\n\u001b[0;32m-> 1316\u001b[0;31m                            run_metadata)\n\u001b[0m\u001b[1;32m   1317\u001b[0m     \u001b[0;32melse\u001b[0m\u001b[0;34m:\u001b[0m\u001b[0;34m\u001b[0m\u001b[0m\n\u001b[1;32m   1318\u001b[0m       \u001b[0;32mreturn\u001b[0m \u001b[0mself\u001b[0m\u001b[0;34m.\u001b[0m\u001b[0m_do_call\u001b[0m\u001b[0;34m(\u001b[0m\u001b[0m_prun_fn\u001b[0m\u001b[0;34m,\u001b[0m \u001b[0mhandle\u001b[0m\u001b[0;34m,\u001b[0m \u001b[0mfeeds\u001b[0m\u001b[0;34m,\u001b[0m \u001b[0mfetches\u001b[0m\u001b[0;34m)\u001b[0m\u001b[0;34m\u001b[0m\u001b[0m\n",
      "\u001b[0;32m/home/malzantot/.local/lib/python3.6/site-packages/tensorflow/python/client/session.py\u001b[0m in \u001b[0;36m_do_call\u001b[0;34m(self, fn, *args)\u001b[0m\n\u001b[1;32m   1320\u001b[0m   \u001b[0;32mdef\u001b[0m \u001b[0m_do_call\u001b[0m\u001b[0;34m(\u001b[0m\u001b[0mself\u001b[0m\u001b[0;34m,\u001b[0m \u001b[0mfn\u001b[0m\u001b[0;34m,\u001b[0m \u001b[0;34m*\u001b[0m\u001b[0margs\u001b[0m\u001b[0;34m)\u001b[0m\u001b[0;34m:\u001b[0m\u001b[0;34m\u001b[0m\u001b[0m\n\u001b[1;32m   1321\u001b[0m     \u001b[0;32mtry\u001b[0m\u001b[0;34m:\u001b[0m\u001b[0;34m\u001b[0m\u001b[0m\n\u001b[0;32m-> 1322\u001b[0;31m       \u001b[0;32mreturn\u001b[0m \u001b[0mfn\u001b[0m\u001b[0;34m(\u001b[0m\u001b[0;34m*\u001b[0m\u001b[0margs\u001b[0m\u001b[0;34m)\u001b[0m\u001b[0;34m\u001b[0m\u001b[0m\n\u001b[0m\u001b[1;32m   1323\u001b[0m     \u001b[0;32mexcept\u001b[0m \u001b[0merrors\u001b[0m\u001b[0;34m.\u001b[0m\u001b[0mOpError\u001b[0m \u001b[0;32mas\u001b[0m \u001b[0me\u001b[0m\u001b[0;34m:\u001b[0m\u001b[0;34m\u001b[0m\u001b[0m\n\u001b[1;32m   1324\u001b[0m       \u001b[0mmessage\u001b[0m \u001b[0;34m=\u001b[0m \u001b[0mcompat\u001b[0m\u001b[0;34m.\u001b[0m\u001b[0mas_text\u001b[0m\u001b[0;34m(\u001b[0m\u001b[0me\u001b[0m\u001b[0;34m.\u001b[0m\u001b[0mmessage\u001b[0m\u001b[0;34m)\u001b[0m\u001b[0;34m\u001b[0m\u001b[0m\n",
      "\u001b[0;32m/home/malzantot/.local/lib/python3.6/site-packages/tensorflow/python/client/session.py\u001b[0m in \u001b[0;36m_run_fn\u001b[0;34m(feed_dict, fetch_list, target_list, options, run_metadata)\u001b[0m\n\u001b[1;32m   1305\u001b[0m       \u001b[0mself\u001b[0m\u001b[0;34m.\u001b[0m\u001b[0m_extend_graph\u001b[0m\u001b[0;34m(\u001b[0m\u001b[0;34m)\u001b[0m\u001b[0;34m\u001b[0m\u001b[0m\n\u001b[1;32m   1306\u001b[0m       return self._call_tf_sessionrun(\n\u001b[0;32m-> 1307\u001b[0;31m           options, feed_dict, fetch_list, target_list, run_metadata)\n\u001b[0m\u001b[1;32m   1308\u001b[0m \u001b[0;34m\u001b[0m\u001b[0m\n\u001b[1;32m   1309\u001b[0m     \u001b[0;32mdef\u001b[0m \u001b[0m_prun_fn\u001b[0m\u001b[0;34m(\u001b[0m\u001b[0mhandle\u001b[0m\u001b[0;34m,\u001b[0m \u001b[0mfeed_dict\u001b[0m\u001b[0;34m,\u001b[0m \u001b[0mfetch_list\u001b[0m\u001b[0;34m)\u001b[0m\u001b[0;34m:\u001b[0m\u001b[0;34m\u001b[0m\u001b[0m\n",
      "\u001b[0;32m/home/malzantot/.local/lib/python3.6/site-packages/tensorflow/python/client/session.py\u001b[0m in \u001b[0;36m_call_tf_sessionrun\u001b[0;34m(self, options, feed_dict, fetch_list, target_list, run_metadata)\u001b[0m\n\u001b[1;32m   1407\u001b[0m       return tf_session.TF_SessionRun_wrapper(\n\u001b[1;32m   1408\u001b[0m           \u001b[0mself\u001b[0m\u001b[0;34m.\u001b[0m\u001b[0m_session\u001b[0m\u001b[0;34m,\u001b[0m \u001b[0moptions\u001b[0m\u001b[0;34m,\u001b[0m \u001b[0mfeed_dict\u001b[0m\u001b[0;34m,\u001b[0m \u001b[0mfetch_list\u001b[0m\u001b[0;34m,\u001b[0m \u001b[0mtarget_list\u001b[0m\u001b[0;34m,\u001b[0m\u001b[0;34m\u001b[0m\u001b[0m\n\u001b[0;32m-> 1409\u001b[0;31m           run_metadata)\n\u001b[0m\u001b[1;32m   1410\u001b[0m     \u001b[0;32melse\u001b[0m\u001b[0;34m:\u001b[0m\u001b[0;34m\u001b[0m\u001b[0m\n\u001b[1;32m   1411\u001b[0m       \u001b[0;32mwith\u001b[0m \u001b[0merrors\u001b[0m\u001b[0;34m.\u001b[0m\u001b[0mraise_exception_on_not_ok_status\u001b[0m\u001b[0;34m(\u001b[0m\u001b[0;34m)\u001b[0m \u001b[0;32mas\u001b[0m \u001b[0mstatus\u001b[0m\u001b[0;34m:\u001b[0m\u001b[0;34m\u001b[0m\u001b[0m\n",
      "\u001b[0;31mKeyboardInterrupt\u001b[0m: "
     ]
    }
   ],
   "source": [
    "TEST_SIZE = 1000\n",
    "test_idx = np.random.choice(len(dataset.test_y), TEST_SIZE, replace=False)\n",
    "test_len = []\n",
    "for i in range(TEST_SIZE):\n",
    "    test_len.append(len(dataset.test_seqs2[test_idx[i]]))\n",
    "print('Shortest sentence in our test set is %d words' %np.min(test_len))\n",
    "\n",
    "test_list = []\n",
    "orig_list = []\n",
    "orig_label_list = []\n",
    "adv_list = []\n",
    "dist_list = []\n",
    "\n",
    "for i in range(TEST_SIZE):\n",
    "    x_orig = test_x[test_idx[i]]\n",
    "    orig_label = test_y[test_idx[i]]\n",
    "    orig_preds=  model.predict(sess, x_orig[np.newaxis, :])[0]\n",
    "    # print(orig_label, orig_preds, np.argmax(orig_preds))\n",
    "    if np.argmax(orig_preds) != orig_label:\n",
    "        print('skipping wrong classifed ..')\n",
    "        print('--------------------------')\n",
    "        continue\n",
    "    x_len = np.sum(np.sign(x_orig))\n",
    "    if x_len >= 100:\n",
    "        print('skipping too long input..')\n",
    "        print('--------------------------')\n",
    "        continue\n",
    "    # if np.max(orig_preds) < 0.90:\n",
    "    #    print('skipping low confidence .. \\n-----\\n')\n",
    "    #    continue\n",
    "    print('****** ', len(test_list) + 1, ' ********')\n",
    "    test_list.append(test_idx[i])\n",
    "    orig_list.append(x_orig)\n",
    "    target_label = 1 if orig_label == 0 else 0\n",
    "    orig_label_list.append(orig_label)\n",
    "    x_adv = ga_atttack.attack( x_orig, target_label)\n",
    "    adv_list.append(x_adv)\n",
    "    if x_adv is None:\n",
    "        print('%d failed' %(i+1))\n",
    "        dist_list.append(100000)\n",
    "    else:\n",
    "        num_changes = np.sum(x_orig != x_adv)\n",
    "        print('%d - %d changed.' %(i+1, num_changes))\n",
    "        dist_list.append(num_changes)\n",
    "        # display_utils.visualize_attack(sess, model, dataset, x_orig, x_adv)\n",
    "    print('--------------------------')\n",
    "    if (len(test_list)>= 50):\n",
    "        break"
   ]
  },
  {
   "cell_type": "code",
   "execution_count": null,
   "metadata": {
    "collapsed": true
   },
   "outputs": [],
   "source": [
    "#with open('attack_results.pkl', 'wb') as f:\n",
    "#    pickle.dump((orig_list, orig_label_list, adv_list, dist_list), f)"
   ]
  },
  {
   "cell_type": "markdown",
   "metadata": {
    "collapsed": true
   },
   "source": [
    "## Visualize some output results"
   ]
  },
  {
   "cell_type": "code",
   "execution_count": 37,
   "metadata": {
    "collapsed": true
   },
   "outputs": [],
   "source": [
    "orig_len = [np.sum(np.sign(x)) for x in orig_list]\n",
    "ratio = [dist_list[i]/orig_len[i] for i in range(len(orig_list))]"
   ]
  },
  {
   "cell_type": "code",
   "execution_count": 39,
   "metadata": {},
   "outputs": [
    {
     "name": "stdout",
     "output_type": "stream",
     "text": [
      "Median number of modifications  8.0\n"
     ]
    }
   ],
   "source": [
    "print('Median number of modifications ' , np.median([x for x in dist_list if x != 100000]))"
   ]
  },
  {
   "cell_type": "code",
   "execution_count": null,
   "metadata": {
    "collapsed": true
   },
   "outputs": [],
   "source": []
  },
  {
   "cell_type": "code",
   "execution_count": 40,
   "metadata": {},
   "outputs": [],
   "source": [
    "ratio_success = [x for x in ratio if x < 1.0]"
   ]
  },
  {
   "cell_type": "code",
   "execution_count": 43,
   "metadata": {},
   "outputs": [
    {
     "data": {
      "text/plain": [
       "0.14703799051733282"
      ]
     },
     "execution_count": 43,
     "metadata": {},
     "output_type": "execute_result"
    }
   ],
   "source": [
    "np.mean(ratio_success)"
   ]
  },
  {
   "cell_type": "code",
   "execution_count": null,
   "metadata": {
    "collapsed": true
   },
   "outputs": [],
   "source": [
    "test_x.r"
   ]
  },
  {
   "cell_type": "code",
   "execution_count": 65,
   "metadata": {},
   "outputs": [
    {
     "name": "stdout",
     "output_type": "stream",
     "text": [
      "Original Prediction = Negative. (Confidence = 76.12) \n"
     ]
    },
    {
     "data": {
      "text/html": [
       "okay my question who's the idiot that wrote this movie giving it the same name as dean <b style='color:green'>awesome</b> book its terrible nothing like the book you got the dog and the watcher but there the similarities <b style='color:green'>end</b> might be good if you haven't read the book though but it <b style='color:green'>disappointed</b> me really br br they should make a new one and let koontz write it now that would be a good movie i'll say it again this movie <b style='color:green'>disgusted</b> me absolutely disgusted me it was <b style='color:green'>terrible</b> it was absolutely nothing like the book i would never again watch it"
      ],
      "text/plain": [
       "<IPython.core.display.HTML object>"
      ]
     },
     "metadata": {},
     "output_type": "display_data"
    },
    {
     "name": "stdout",
     "output_type": "stream",
     "text": [
      "---------  After attack -------------\n",
      "New Prediction = Positive. (Confidence = 53.23) \n"
     ]
    },
    {
     "data": {
      "text/html": [
       "okay my question who's the idiot that wrote this movie giving it the same name as dean <b style='color:red'>fantastic</b> book its terrible nothing like the book you got the dog and the watcher but there the similarities <b style='color:red'>ending</b> might be good if you haven't read the book though but it <b style='color:red'>disappoints</b> me really br br they should make a new one and let koontz write it now that would be a good movie i'll say it again this movie <b style='color:red'>outraged</b> me absolutely disgusted me it was <b style='color:red'>horrific</b> it was absolutely nothing like the book i would never again watch it"
      ],
      "text/plain": [
       "<IPython.core.display.HTML object>"
      ]
     },
     "metadata": {},
     "output_type": "display_data"
    }
   ],
   "source": [
    "visual_idx = 24\n",
    "display_utils.visualize_attack(sess, model, dataset, orig_list[visual_idx], adv_list[visual_idx])"
   ]
  },
  {
   "cell_type": "code",
   "execution_count": null,
   "metadata": {
    "collapsed": true
   },
   "outputs": [],
   "source": [
    "print('Average number of changed wrods = ', np.mean(dist_list))"
   ]
  },
  {
   "cell_type": "code",
   "execution_count": 34,
   "metadata": {
    "collapsed": true
   },
   "outputs": [],
   "source": [
    "## Save success\n",
    "with open('attack_results_final.pkl', 'wb') as f:\n",
    "    pickle.dump((test_list, orig_list, orig_label_list, adv_list, dist_list), f)\n",
    "    \n"
   ]
  },
  {
   "cell_type": "code",
   "execution_count": 66,
   "metadata": {
    "collapsed": true
   },
   "outputs": [],
   "source": [
    "import display_utils"
   ]
  },
  {
   "cell_type": "code",
   "execution_count": 68,
   "metadata": {},
   "outputs": [
    {
     "name": "stdout",
     "output_type": "stream",
     "text": [
      "RAW TEXT: \n"
     ]
    },
    {
     "data": {
      "text/html": [
       "okay, my question; who's the idiot that wrote this movie, giving it the same name as dean koontz's awesome book? its terrible, nothing like the book...you got the dog, and the watcher, but there the similarities end...might be good, if you haven't read the book, though...but it disappointed me, really.<br /><br />they should make a new one, and let koontz write it... now that would be a good movie... i'll say it again, this movie disgusted me...absolutely disgusted me. it was terrible, it was absolutely nothing like the book. i would never again watch it."
      ],
      "text/plain": [
       "<IPython.core.display.HTML object>"
      ]
     },
     "metadata": {},
     "output_type": "display_data"
    },
    {
     "name": "stdout",
     "output_type": "stream",
     "text": [
      "--------------------\n",
      "Original Prediction = Negative.  \n"
     ]
    },
    {
     "data": {
      "text/html": [
       "okay my question who's the idiot that wrote this movie giving it the same name as dean <b style='color:green'>awesome</b> book its terrible nothing like the book you got the dog and the watcher but there the similarities <b style='color:green'>end</b> might be good if you haven't read the book though but it <b style='color:green'>disappointed</b> me really br br they should make a new one and let koontz write it now that would be a good movie i'll say it again this movie <b style='color:green'>disgusted</b> me absolutely disgusted me it was <b style='color:green'>terrible</b> it was absolutely nothing like the book i would never again watch it"
      ],
      "text/plain": [
       "<IPython.core.display.HTML object>"
      ]
     },
     "metadata": {},
     "output_type": "display_data"
    },
    {
     "name": "stdout",
     "output_type": "stream",
     "text": [
      "---------  After attack -------------\n",
      "New Prediction = Positive.\n"
     ]
    },
    {
     "data": {
      "text/html": [
       "okay my question who's the idiot that wrote this movie giving it the same name as dean <b style='color:red'>fantastic</b> book its terrible nothing like the book you got the dog and the watcher but there the similarities <b style='color:red'>ending</b> might be good if you haven't read the book though but it <b style='color:red'>disappoints</b> me really br br they should make a new one and let koontz write it now that would be a good movie i'll say it again this movie <b style='color:red'>outraged</b> me absolutely disgusted me it was <b style='color:red'>horrific</b> it was absolutely nothing like the book i would never again watch it"
      ],
      "text/plain": [
       "<IPython.core.display.HTML object>"
      ]
     },
     "metadata": {},
     "output_type": "display_data"
    }
   ],
   "source": [
    "visual_idx = 24\n",
    "\n",
    "display_utils.visualize_attack2(dataset, test_list[visual_idx], orig_list[visual_idx], adv_list[visual_idx], orig_label_list[visual_idx])"
   ]
  },
  {
   "cell_type": "code",
   "execution_count": null,
   "metadata": {
    "collapsed": true
   },
   "outputs": [],
   "source": [
    "src_text[0]"
   ]
  },
  {
   "cell_type": "code",
   "execution_count": null,
   "metadata": {
    "collapsed": true
   },
   "outputs": [],
   "source": [
    "orig_text[0]"
   ]
  },
  {
   "cell_type": "code",
   "execution_count": null,
   "metadata": {
    "collapsed": true
   },
   "outputs": [],
   "source": [
    "adv_text[0]"
   ]
  },
  {
   "cell_type": "code",
   "execution_count": null,
   "metadata": {
    "collapsed": true
   },
   "outputs": [],
   "source": [
    "## Baseline\n",
    "koontz's"
   ]
  }
 ],
 "metadata": {
  "kernelspec": {
   "display_name": "Python 3",
   "language": "python",
   "name": "python3"
  },
  "language_info": {
   "codemirror_mode": {
    "name": "ipython",
    "version": 3
   },
   "file_extension": ".py",
   "mimetype": "text/x-python",
   "name": "python",
   "nbconvert_exporter": "python",
   "pygments_lexer": "ipython3",
   "version": "3.6.1"
  }
 },
 "nbformat": 4,
 "nbformat_minor": 2
}
